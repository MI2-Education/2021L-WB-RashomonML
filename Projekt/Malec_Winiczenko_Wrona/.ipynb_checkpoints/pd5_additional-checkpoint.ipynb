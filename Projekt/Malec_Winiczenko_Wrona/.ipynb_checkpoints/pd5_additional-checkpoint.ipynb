{
 "cells": [
  {
   "cell_type": "markdown",
   "metadata": {},
   "source": [
    "# PD5(addition) - generowanie zbioru W48"
   ]
  },
  {
   "cell_type": "markdown",
   "metadata": {},
   "source": [
    "Mamy w planach w przyszłości porównać zbiory Rashomon dla zbioru danych W48 ze zbiorem danych X48"
   ]
  },
  {
   "cell_type": "code",
   "execution_count": 1,
   "metadata": {},
   "outputs": [],
   "source": [
    "import numpy as np\n",
    "import pandas as pd\n",
    "import pickle"
   ]
  },
  {
   "cell_type": "code",
   "execution_count": 2,
   "metadata": {},
   "outputs": [],
   "source": [
    "with open(\"labels\", \"rb\") as f:\n",
    "        labels = pickle.load(f)\n",
    "        \n",
    "with open(\"features\", \"rb\") as f:\n",
    "        features = pickle.load(f)"
   ]
  },
  {
   "cell_type": "code",
   "execution_count": 3,
   "metadata": {},
   "outputs": [],
   "source": [
    "subj = list(set(labels.keys()))   \n",
    "hadm = list(set(features.keys()))\n",
    "col_dict = dict ([(v,k) for k,v in enumerate(features[hadm[0]][list(features[hadm[0]].keys())[0]].keys())])\n",
    "cols = sorted(col_dict.keys())"
   ]
  },
  {
   "cell_type": "code",
   "execution_count": 4,
   "metadata": {},
   "outputs": [
    {
     "data": {
      "text/plain": [
       "['albumin',\n",
       " 'bicarbonate',\n",
       " 'bun',\n",
       " 'calcium',\n",
       " 'creatinine',\n",
       " 'diasbp',\n",
       " 'glucose',\n",
       " 'heartrate',\n",
       " 'inr',\n",
       " 'lactate',\n",
       " 'pco2',\n",
       " 'ph',\n",
       " 'platelet',\n",
       " 'potassium',\n",
       " 'resprate',\n",
       " 'sodium',\n",
       " 'spo2',\n",
       " 'sysbp',\n",
       " 'tempc']"
      ]
     },
     "execution_count": 4,
     "metadata": {},
     "output_type": "execute_result"
    }
   ],
   "source": [
    "cols # column names\n",
    "# min, max, mean, std are calculated for each feature"
   ]
  },
  {
   "cell_type": "code",
   "execution_count": 5,
   "metadata": {},
   "outputs": [
    {
     "data": {
      "text/plain": [
       "['min_albumin',\n",
       " 'min_bicarbonate',\n",
       " 'min_bun',\n",
       " 'min_calcium',\n",
       " 'min_creatinine',\n",
       " 'min_diasbp',\n",
       " 'min_glucose',\n",
       " 'min_heartrate',\n",
       " 'min_inr',\n",
       " 'min_lactate',\n",
       " 'min_pco2',\n",
       " 'min_ph',\n",
       " 'min_platelet',\n",
       " 'min_potassium',\n",
       " 'min_resprate',\n",
       " 'min_sodium',\n",
       " 'min_spo2',\n",
       " 'min_sysbp',\n",
       " 'min_tempc',\n",
       " 'max_albumin',\n",
       " 'max_bicarbonate',\n",
       " 'max_bun',\n",
       " 'max_calcium',\n",
       " 'max_creatinine',\n",
       " 'max_diasbp',\n",
       " 'max_glucose',\n",
       " 'max_heartrate',\n",
       " 'max_inr',\n",
       " 'max_lactate',\n",
       " 'max_pco2',\n",
       " 'max_ph',\n",
       " 'max_platelet',\n",
       " 'max_potassium',\n",
       " 'max_resprate',\n",
       " 'max_sodium',\n",
       " 'max_spo2',\n",
       " 'max_sysbp',\n",
       " 'max_tempc',\n",
       " 'mean_albumin',\n",
       " 'mean_bicarbonate',\n",
       " 'mean_bun',\n",
       " 'mean_calcium',\n",
       " 'mean_creatinine',\n",
       " 'mean_diasbp',\n",
       " 'mean_glucose',\n",
       " 'mean_heartrate',\n",
       " 'mean_inr',\n",
       " 'mean_lactate',\n",
       " 'mean_pco2',\n",
       " 'mean_ph',\n",
       " 'mean_platelet',\n",
       " 'mean_potassium',\n",
       " 'mean_resprate',\n",
       " 'mean_sodium',\n",
       " 'mean_spo2',\n",
       " 'mean_sysbp',\n",
       " 'mean_tempc',\n",
       " 'std_albumin',\n",
       " 'std_bicarbonate',\n",
       " 'std_bun',\n",
       " 'std_calcium',\n",
       " 'std_creatinine',\n",
       " 'std_diasbp',\n",
       " 'std_glucose',\n",
       " 'std_heartrate',\n",
       " 'std_inr',\n",
       " 'std_lactate',\n",
       " 'std_pco2',\n",
       " 'std_ph',\n",
       " 'std_platelet',\n",
       " 'std_potassium',\n",
       " 'std_resprate',\n",
       " 'std_sodium',\n",
       " 'std_spo2',\n",
       " 'std_sysbp',\n",
       " 'std_tempc']"
      ]
     },
     "execution_count": 5,
     "metadata": {},
     "output_type": "execute_result"
    }
   ],
   "source": [
    "stats = [\"min\", \"max\", \"mean\", \"std\"]\n",
    "X48_cols = [0] * (len(stats) * len(cols)) \n",
    "for i in range(len(stats)):\n",
    "    for j in range(len(cols)):\n",
    "        X48_cols[i*len(cols) + j] = stats[i] + \"_\" + cols[j]\n",
    "\n",
    "with open('X48_cols', 'wb') as f:\n",
    "    pickle.dump(X48_cols, f)\n",
    "\n",
    "X48_cols"
   ]
  },
  {
   "cell_type": "markdown",
   "metadata": {},
   "source": [
    "## Additional datasets"
   ]
  },
  {
   "cell_type": "code",
   "execution_count": 6,
   "metadata": {},
   "outputs": [
    {
     "data": {
      "text/plain": [
       "(27616, 276)"
      ]
     },
     "execution_count": 6,
     "metadata": {},
     "output_type": "execute_result"
    }
   ],
   "source": [
    "X48 = np.load(\"X48.npy\")\n",
    "w2v = np.load(\"w2v.npy\") # Skip-Gram embeddings for diagnosis histories\n",
    "W48 = np.concatenate((X48, w2v), axis=1)\n",
    "np.save(\"W48.npy\", W48)\n",
    "W48.shape"
   ]
  }
 ],
 "metadata": {
  "kernelspec": {
   "display_name": "Python 3",
   "language": "python",
   "name": "python3"
  },
  "language_info": {
   "codemirror_mode": {
    "name": "ipython",
    "version": 3
   },
   "file_extension": ".py",
   "mimetype": "text/x-python",
   "name": "python",
   "nbconvert_exporter": "python",
   "pygments_lexer": "ipython3",
   "version": "3.7.0"
  }
 },
 "nbformat": 4,
 "nbformat_minor": 4
}
